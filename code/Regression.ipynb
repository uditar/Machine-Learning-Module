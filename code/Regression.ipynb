{
 "cells": [
  {
   "cell_type": "code",
   "execution_count": 53,
   "metadata": {
    "colab": {},
    "colab_type": "code",
    "id": "MYZX0SVUj4F7"
   },
   "outputs": [],
   "source": [
    "import pandas as pd  \n",
    "import numpy as np  \n",
    "import matplotlib.pyplot as plt \n",
    "from math import sqrt\n",
    "import csv\n",
    "%matplotlib inline\n",
    "from sklearn import preprocessing\n",
    "from sklearn.model_selection import train_test_split\n",
    "from sklearn.linear_model import LinearRegression,RidgeCV,LassoLarsCV\n",
    "from sklearn.metrics import accuracy_score,mean_squared_error"
   ]
  },
  {
   "cell_type": "code",
   "execution_count": 54,
   "metadata": {
    "colab": {},
    "colab_type": "code",
    "id": "Fsm8qh8vkivT"
   },
   "outputs": [],
   "source": [
    "data = pd.read_csv(\"../data/Zomato/zomato.csv\", sep=',', encoding='latin-1')\n",
    "data = data[~(data['Votes'] <= 20)]"
   ]
  },
  {
   "cell_type": "code",
   "execution_count": 55,
   "metadata": {
    "colab": {
     "base_uri": "https://localhost:8080/",
     "height": 391
    },
    "colab_type": "code",
    "id": "DqHrWksGvt77",
    "outputId": "8a53ba0e-bb6e-4e64-fec2-1f6737539d3a"
   },
   "outputs": [],
   "source": [
    "data.fillna(method='bfill',inplace=True)\n",
    "# data = pd.concat([\n",
    "#         data.select_dtypes([], ['object']),\n",
    "#         data.select_dtypes(['object']).apply(pd.Series.astype, dtype='category')\n",
    "#         ], axis=1).reindex_axis(data.columns, axis=1)"
   ]
  },
  {
   "cell_type": "code",
   "execution_count": 56,
   "metadata": {
    "colab": {},
    "colab_type": "code",
    "id": "CWlj0-evkulC"
   },
   "outputs": [],
   "source": [
    "le = preprocessing.LabelEncoder()\n",
    "data1 = data.apply(le.fit_transform)"
   ]
  },
  {
   "cell_type": "code",
   "execution_count": 57,
   "metadata": {
    "colab": {
     "base_uri": "https://localhost:8080/",
     "height": 357
    },
    "colab_type": "code",
    "id": "DkOFWtp7ky0c",
    "outputId": "8eef0529-75b4-4436-9d92-ca6520417074"
   },
   "outputs": [],
   "source": [
    "columns=['Rating color','Rating text']\n",
    "data1=data1.drop(columns,axis=1)\n",
    "X = data1.drop('Aggregate rating', axis=1)\n",
    "y = data1['Aggregate rating']"
   ]
  },
  {
   "cell_type": "code",
   "execution_count": 58,
   "metadata": {
    "colab": {},
    "colab_type": "code",
    "id": "44LRRkhywdJ-"
   },
   "outputs": [],
   "source": [
    "X_train, X_test, y_train, y_test = train_test_split(X, y, test_size = 0.20)"
   ]
  },
  {
   "cell_type": "code",
   "execution_count": 59,
   "metadata": {
    "colab": {
     "base_uri": "https://localhost:8080/",
     "height": 51
    },
    "colab_type": "code",
    "id": "vu5flFbeeOAs",
    "outputId": "5ec4d50a-a029-41bb-a41e-d32cdbd3e9c4"
   },
   "outputs": [
    {
     "name": "stdout",
     "output_type": "stream",
     "text": [
      "[20.73691672 18.01990691 14.26713327 ... 19.74758309 19.33404074\n",
      " 19.02885134]\n"
     ]
    }
   ],
   "source": [
    "lr=LinearRegression(normalize=True)\n",
    "lr.fit(X_train, y_train)\n",
    "y_p=lr.predict(X_test)\n",
    "print(y_p)"
   ]
  },
  {
   "cell_type": "code",
   "execution_count": 60,
   "metadata": {
    "colab": {
     "base_uri": "https://localhost:8080/",
     "height": 51
    },
    "colab_type": "code",
    "id": "Nf7LEwZTqbqb",
    "outputId": "c5ca970c-656a-4346-8d7e-f36a26fc4dba"
   },
   "outputs": [
    {
     "name": "stdout",
     "output_type": "stream",
     "text": [
      "Mean Absolute Error on test data: 3.06\n",
      "Accuracy of test data: 74.90482538723654 %.\n"
     ]
    }
   ],
   "source": [
    "errors = abs(y_p - y_test)\n",
    "# print(errors)\n",
    "print('Mean Absolute Error on test data:', round(np.mean(errors), 2))\n",
    "#print(test_labels)\n",
    "mape = 100 * (errors / y_test)\n",
    "\n",
    "# print('MAPE', mape)\n",
    "accuracy = 100 - np.mean(mape)\n",
    "#print('Prediction', predictions)\n",
    "print('Accuracy of test data:', (accuracy), '%.')"
   ]
  },
  {
   "cell_type": "code",
   "execution_count": 61,
   "metadata": {},
   "outputs": [
    {
     "name": "stdout",
     "output_type": "stream",
     "text": [
      "Accuracy:  74.9047769344132\n",
      "RMSE:  3.966674178972642\n",
      "MAE:  3.06\n",
      "Alpha:  0.1\n"
     ]
    }
   ],
   "source": [
    "i=0.1\n",
    "while i<=200.0:\n",
    "    rr=RidgeCV(alphas=[i])\n",
    "    rr.fit(X_train, y_train)\n",
    "    y_p1=rr.predict(X_test)\n",
    "    \n",
    "    errors = abs(y_p1 - y_test)\n",
    "    mape = 100 * (errors / y_test)\n",
    "    mae= round(np.mean(errors),2)\n",
    "    accuracy = 100 - np.mean(mape)\n",
    "    rmse = sqrt(mean_squared_error(y_test,y_p1))\n",
    "    asd=i\n",
    "\n",
    "    if(i==0.1):\n",
    "        accuracy1=accuracy\n",
    "        rmse1=rmse\n",
    "        mae1=mae\n",
    "        asd1=asd\n",
    "    if(accuracy>accuracy1):\n",
    "        accuracy1=accuracy\n",
    "        rmse1=rmse\n",
    "        mae1=mae\n",
    "        asd1=asd\n",
    "    i+=0.1\n",
    "print('Accuracy: ',accuracy1)\n",
    "print('RMSE: ',rmse1)\n",
    "print('MAE: ',mae1)\n",
    "print('Alpha: ',asd1)"
   ]
  },
  {
   "cell_type": "code",
   "execution_count": 62,
   "metadata": {},
   "outputs": [],
   "source": [
    "row = [asd1,accuracy1,rmse1,mae1]\n",
    "with open('../output/results.csv', 'a') as csvFile:\n",
    "    writer = csv.writer(csvFile)\n",
    "    writer.writerow(row)\n",
    "csvFile.close()"
   ]
  },
  {
   "cell_type": "code",
   "execution_count": 63,
   "metadata": {},
   "outputs": [
    {
     "name": "stdout",
     "output_type": "stream",
     "text": [
      "Mean Absolute Error on test data: 3.06\n",
      "Accuracy of test data: 74.86068656063749 %.\n"
     ]
    }
   ],
   "source": [
    "errors = abs(y_p1 - y_test)\n",
    "# print(errors)\n",
    "print('Mean Absolute Error on test data:', round(np.mean(errors), 2))\n",
    "#print(test_labels)\n",
    "mape = 100 * (errors / y_test)\n",
    "# print('MAPE', mape)\n",
    "accuracy = 100 - np.mean(mape)\n",
    "#print('Prediction', predictions)\n",
    "print('Accuracy of test data:', (accuracy), '%.')"
   ]
  },
  {
   "cell_type": "code",
   "execution_count": 64,
   "metadata": {},
   "outputs": [
    {
     "name": "stdout",
     "output_type": "stream",
     "text": [
      "[20.73691672 18.01990691 14.26713327 ... 19.74758309 19.33404074\n",
      " 19.02885134]\n"
     ]
    }
   ],
   "source": [
    "lar=LassoLarsCV(max_n_alphas=5)\n",
    "lar.fit(X_train, y_train)\n",
    "y_p2=lar.predict(X_test)\n",
    "print(y_p2)"
   ]
  },
  {
   "cell_type": "code",
   "execution_count": 65,
   "metadata": {},
   "outputs": [
    {
     "name": "stdout",
     "output_type": "stream",
     "text": [
      "Mean Absolute Error on test data: 3.06\n",
      "Accuracy of test data: 74.90482538723653 %.\n"
     ]
    }
   ],
   "source": [
    "errors = abs(y_p2 - y_test)\n",
    "# print(errors)\n",
    "print('Mean Absolute Error on test data:', round(np.mean(errors), 2))\n",
    "#print(test_labels)\n",
    "mape = 100 * (errors / y_test)\n",
    "# print('MAPE', mape)\n",
    "accuracy = 100 - np.mean(mape)\n",
    "#print('Prediction', predictions)\n",
    "print('Accuracy of test data:', (accuracy), '%.')"
   ]
  }
 ],
 "metadata": {
  "accelerator": "GPU",
  "colab": {
   "collapsed_sections": [],
   "name": "SVC.ipynb",
   "provenance": [],
   "version": "0.3.2"
  },
  "kernelspec": {
   "display_name": "Python 3",
   "language": "python",
   "name": "python3"
  },
  "language_info": {
   "codemirror_mode": {
    "name": "ipython",
    "version": 3
   },
   "file_extension": ".py",
   "mimetype": "text/x-python",
   "name": "python",
   "nbconvert_exporter": "python",
   "pygments_lexer": "ipython3",
   "version": "3.6.4"
  }
 },
 "nbformat": 4,
 "nbformat_minor": 1
}
