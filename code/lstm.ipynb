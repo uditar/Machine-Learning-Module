{
 "cells": [
  {
   "cell_type": "code",
   "execution_count": 1,
   "metadata": {},
   "outputs": [],
   "source": [
    "import os\n",
    "os.environ['KERAS_BACKEND']='theano'"
   ]
  },
  {
   "cell_type": "code",
   "execution_count": 2,
   "metadata": {},
   "outputs": [],
   "source": [
    "from math import sqrt\n",
    "from numpy import concatenate\n",
    "from matplotlib import pyplot\n",
    "from pandas import read_csv\n",
    "from pandas import DataFrame\n",
    "from pandas import concat\n",
    "from sklearn.preprocessing import MinMaxScaler\n",
    "from sklearn.preprocessing import LabelEncoder\n",
    "from sklearn.metrics import mean_squared_error\n",
    "from sklearn.metrics import r2_score\n",
    "from math import sqrt\n",
    "\n",
    "import pandas as pd\n",
    "import datetime\n",
    "import seaborn as sns\n",
    "%matplotlib inline\n",
    "import numpy as np\n",
    "import matplotlib.pyplot as plt"
   ]
  },
  {
   "cell_type": "code",
   "execution_count": 3,
   "metadata": {},
   "outputs": [
    {
     "name": "stderr",
     "output_type": "stream",
     "text": [
      "C:\\ProgramData\\Anaconda3\\lib\\site-packages\\h5py\\__init__.py:72: UserWarning: h5py is running against HDF5 1.10.2 when it was built against 1.10.3, this may cause problems\n",
      "  '{0}.{1}.{2}'.format(*version.hdf5_built_version_tuple)\n",
      "Using Theano backend.\n",
      "WARNING (theano.configdefaults): g++ not available, if using conda: `conda install m2w64-toolchain`\n",
      "C:\\ProgramData\\Anaconda3\\lib\\site-packages\\theano\\configdefaults.py:560: UserWarning: DeprecationWarning: there is no c++ compiler.This is deprecated and with Theano 0.11 a c++ compiler will be mandatory\n",
      "  warnings.warn(\"DeprecationWarning: there is no c++ compiler.\"\n",
      "WARNING (theano.configdefaults): g++ not detected ! Theano will be unable to execute optimized C-implementations (for both CPU and GPU) and will default to Python implementations. Performance will be severely degraded. To remove this warning, set Theano flags cxx to an empty string.\n",
      "WARNING (theano.tensor.blas): Using NumPy C-API based implementation for BLAS functions.\n"
     ]
    }
   ],
   "source": [
    "from keras.models import Sequential\n",
    "from keras.layers import Dense\n",
    "from keras.layers import LSTM\n",
    "from keras.layers import Dropout"
   ]
  },
  {
   "cell_type": "code",
   "execution_count": 4,
   "metadata": {},
   "outputs": [],
   "source": [
    "def series_to_supervised(data, n_in=1, n_out=1, dropnan=True):\n",
    "\tn_vars = 1 if type(data) is list else data.shape[1]\n",
    "\tdf = pd.DataFrame(data)\n",
    "\tcols, names = list(), list()\n",
    "\t# input sequen ce (t-n, ... t-1)\n",
    "\tfor i in range(n_in, 0, -1):\n",
    "\t\tcols.append(df.shift(i))\n",
    "\t\tnames += [('var%d(t-%d)' % (j+1, i)) for j in range(n_vars)]\n",
    "\t# forecast sequence (t, t+1, ... t+n)\n",
    "\tfor i in range(0, n_out):\n",
    "\t\tcols.append(df.shift(-i))\n",
    "\t\tif i == 0:\n",
    "\t\t\tnames += [('var%d(t)' % (j+1)) for j in range(n_vars)]\n",
    "\t\telse:\n",
    "\t\t\tnames += [('var%d(t+%d)' % (j+1, i)) for j in range(n_vars)]\n",
    "\t# put it all together\n",
    "\tagg = pd.concat(cols, axis=1)\n",
    "\tagg.columns = names\n",
    "\t# drop rows with NaN values\n",
    "\tif dropnan:\n",
    "\t\tagg.dropna(inplace=True)\n",
    "\treturn agg"
   ]
  },
  {
   "cell_type": "code",
   "execution_count": 5,
   "metadata": {},
   "outputs": [
    {
     "name": "stderr",
     "output_type": "stream",
     "text": [
      "C:\\ProgramData\\Anaconda3\\lib\\site-packages\\sklearn\\preprocessing\\data.py:323: DataConversionWarning: Data with input dtype float32 were all converted to float64 by MinMaxScaler.\n",
      "  return self.partial_fit(X, y)\n"
     ]
    }
   ],
   "source": [
    "x=datetime.datetime.now()\n",
    "df1=pd.read_csv(\"../data/Data_Energy/energydata_complete.csv\",header=0, index_col=0)\n",
    "cols=['rv1','rv2','Visibility','T9','T_out','T1','T7','T5','Tdewpoint','Windspeed','RH_9','RH_4','T6','RH_7']\n",
    "df1.drop(cols, axis=1, inplace=True)\n",
    "# df1=df1[['lights', 'T1', 'RH_1', 'T2', 'RH_2', 'T3', 'RH_3', 'T4','RH_4', 'T5', 'RH_5', 'T6', 'RH_6', 'T7', 'RH_7', 'T8', 'RH_8', 'T9','RH_9', 'T_out', 'Press_mm_hg', 'RH_out', 'Windspeed', 'Visibility','Tdewpoint', 'rv1', 'rv2','Appliances']]\n",
    "#phase1(0.01-0.02): 'rv1','rv2','Visibility','T9'\n",
    "#phase2(0.02-0.03): 'T_out','T1','T7','T5','Tdewpoint','Windspeed','RH_9','RH_4','T6','RH_7'\n",
    "\n",
    "values = df1.values\n",
    "# integer encode direction\n",
    "encoder = LabelEncoder()\n",
    "values[:,4] = encoder.fit_transform(values[:,4])\n",
    "# ensure all data is float\n",
    "values = values.astype('float32')\n",
    "# normalize features\n",
    "reframed = series_to_supervised(values, 1, 1)\n",
    "scaler = MinMaxScaler(feature_range=(0, 1))\n",
    "reframed = scaler.fit_transform(reframed)"
   ]
  },
  {
   "cell_type": "code",
   "execution_count": 6,
   "metadata": {},
   "outputs": [
    {
     "name": "stdout",
     "output_type": "stream",
     "text": [
      "(15774, 1, 27) (15774,) (3946, 1, 27) (3946,)\n"
     ]
    }
   ],
   "source": [
    "# split into train and test sets\n",
    "values = reframed\n",
    "n_train_hours =int(0.8*df1.shape[0])\n",
    "train = values[(len(df1.columns)):n_train_hours, :]\n",
    "test = values[n_train_hours:, :]\n",
    "#print(train)\n",
    "# split into input and outputs\n",
    "train_X, train_y = train[:, :-1], train[:, -1]\n",
    "test_X, test_y = test[:, :-1], test[:, -1]\n",
    "# reshape input to be 3D [samples, timesteps, features]\n",
    "train_X = train_X.reshape((train_X.shape[0], 1, train_X.shape[1]))\n",
    "test_X = test_X.reshape((test_X.shape[0], 1, test_X.shape[1]))\n",
    "print(train_X.shape, train_y.shape, test_X.shape, test_y.shape)"
   ]
  },
  {
   "cell_type": "code",
   "execution_count": 7,
   "metadata": {},
   "outputs": [
    {
     "name": "stdout",
     "output_type": "stream",
     "text": [
      "Train on 15774 samples, validate on 3946 samples\n",
      "Epoch 1/20\n",
      " - 138s - loss: 0.4885 - val_loss: 0.2015\n",
      "Epoch 2/20\n",
      " - 143s - loss: 0.1709 - val_loss: 0.1852\n",
      "Epoch 3/20\n",
      " - 141s - loss: 0.1443 - val_loss: 0.1841\n",
      "Epoch 4/20\n",
      " - 145s - loss: 0.1288 - val_loss: 0.1448\n",
      "Epoch 5/20\n",
      " - 152s - loss: 0.1195 - val_loss: 0.1273\n",
      "Epoch 6/20\n",
      " - 143s - loss: 0.1129 - val_loss: 0.1098\n",
      "Epoch 7/20\n",
      " - 141s - loss: 0.1093 - val_loss: 0.0986\n",
      "Epoch 8/20\n",
      " - 141s - loss: 0.1052 - val_loss: 0.0914\n",
      "Epoch 9/20\n",
      " - 140s - loss: 0.1000 - val_loss: 0.0868\n",
      "Epoch 10/20\n",
      " - 140s - loss: 0.0951 - val_loss: 0.0827\n",
      "Epoch 11/20\n",
      " - 146s - loss: 0.0928 - val_loss: 0.0792\n",
      "Epoch 12/20\n",
      " - 136s - loss: 0.0914 - val_loss: 0.0761\n",
      "Epoch 13/20\n",
      " - 138s - loss: 0.0911 - val_loss: 0.0762\n",
      "Epoch 14/20\n",
      " - 149s - loss: 0.0927 - val_loss: 0.0810\n",
      "Epoch 15/20\n",
      " - 140s - loss: 0.0960 - val_loss: 0.0921\n",
      "Epoch 16/20\n",
      " - 150s - loss: 0.1001 - val_loss: 0.1027\n",
      "Epoch 17/20\n",
      " - 143s - loss: 0.0963 - val_loss: 0.0981\n",
      "Epoch 18/20\n",
      " - 141s - loss: 0.0880 - val_loss: 0.0813\n",
      "Epoch 19/20\n",
      " - 140s - loss: 0.0801 - val_loss: 0.0610\n",
      "Epoch 20/20\n",
      " - 139s - loss: 0.0816 - val_loss: 0.0567\n"
     ]
    },
    {
     "data": {
      "image/png": "[encoded data removed]",
      "text/plain": [
       "<Figure size 432x288 with 1 Axes>"
      ]
     },
     "metadata": {
      "needs_background": "light"
     },
     "output_type": "display_data"
    }
   ],
   "source": [
    "# design network\n",
    "model = Sequential()\n",
    "model.add(LSTM(50, input_shape=(train_X.shape[1], train_X.shape[2])))\n",
    "model.add(Dense(20))\n",
    "model.add(Dropout(0.2))\n",
    "model.add(Dense(1))\n",
    "model.compile(loss='mae', optimizer='adam')\n",
    "# fit network\n",
    "history = model.fit(train_X, train_y, epochs=20, batch_size=1000, validation_data=(test_X, test_y), verbose=2, shuffle=False)\n",
    "# plot history\n",
    "pyplot.plot(history.history['loss'], label='train')\n",
    "pyplot.plot(history.history['val_loss'], label='test')\n",
    "pyplot.legend()\n",
    "pyplot.show()\n"
   ]
  },
  {
   "cell_type": "code",
   "execution_count": 8,
   "metadata": {},
   "outputs": [],
   "source": [
    "# make a prediction\n",
    "yhat_test = model.predict(test_X)\n",
    "yhat_train = model.predict(train_X)\n",
    "test_X = test_X.reshape((test_X.shape[0], test_X.shape[2]))\n",
    "train_X = train_X.reshape((train_X.shape[0], train_X.shape[2]))"
   ]
  },
  {
   "cell_type": "code",
   "execution_count": 9,
   "metadata": {},
   "outputs": [
    {
     "name": "stdout",
     "output_type": "stream",
     "text": [
      "(3946, 28)\n",
      "(15774, 28)\n"
     ]
    }
   ],
   "source": [
    "# invert scaling for forecast\n",
    "inv_yhat_test = concatenate((yhat_test, test_X), axis=1)\n",
    "inv_yhat_train = concatenate((yhat_train,train_X),axis=1)\n",
    "print(inv_yhat_test.shape)\n",
    "print(inv_yhat_train.shape)\n",
    "inv_yhat_test = scaler.inverse_transform(inv_yhat_test)\n",
    "inv_yhat_test = inv_yhat_test[:,0]\n",
    "inv_yhat_train = scaler.inverse_transform(inv_yhat_train)\n",
    "inv_yhat_train = inv_yhat_train[:,0]\n",
    "# invert scaling for actual\n",
    "test_y = test_y.reshape((len(test_y), 1))\n",
    "inv_y_test = concatenate((test_y, test_X[:,:]), axis=1)\n",
    "inv_y_test = scaler.inverse_transform(inv_y_test)\n",
    "inv_y_test = inv_y_test[:,0]\n",
    "\n",
    "train_y = train_y.reshape((len(train_y), 1))\n",
    "inv_y_train = concatenate((train_y, train_X[:,:]), axis=1)\n",
    "inv_y_train = scaler.inverse_transform(inv_y_train)\n",
    "inv_y_train = inv_y_train[:,0]\n"
   ]
  },
  {
   "cell_type": "code",
   "execution_count": 10,
   "metadata": {},
   "outputs": [
    {
     "name": "stdout",
     "output_type": "stream",
     "text": [
      "Test RMSE:  78.24677099855322\n",
      "Train RMSE:  60.11510305635352\n",
      "Mean Absolute Error test data: 60.64 Wh\n",
      "Mean Absolute Error train data: 46.27 Wh\n",
      "Accuracy of test data: 80.9 %.\n",
      "Accuracy of train data: 93.28 %.\n",
      "R2 score of test data:  0.9131348475314797\n",
      "R2 score of train data:  0.8908162348038611\n",
      "Runtime:  0:48:24.504607\n"
     ]
    }
   ],
   "source": [
    "# calculate RMSE\n",
    "rmse_test = sqrt(mean_squared_error(inv_y_test, inv_yhat_test))\n",
    "rmse_train = sqrt(mean_squared_error(inv_y_train, inv_yhat_train))\n",
    "print('Test RMSE: ',rmse_test)\n",
    "print('Train RMSE: ',rmse_train)\n",
    "\n",
    "errors_test=abs(inv_yhat_test-inv_y_test)\n",
    "errors_train=abs(inv_yhat_train-inv_y_train)\n",
    "print('Mean Absolute Error test data:', round(np.mean(errors_test), 2), 'Wh')\n",
    "print('Mean Absolute Error train data:', round(np.mean(errors_train), 2), 'Wh')\n",
    "\n",
    "\n",
    "mape_test = 100 * (errors_test / inv_y_test)\n",
    "mape_train = 100 * (errors_train / inv_y_train)\n",
    "accuracy_test = 100 - np.mean(mape_test)\n",
    "accuracy_train = 100 - np.mean(mape_train)\n",
    "print('Accuracy of test data:', round(accuracy_test, 2), '%.')\n",
    "print('Accuracy of train data:', round(accuracy_train, 2), '%.')\n",
    "\n",
    "acc_test = r2_score(inv_y_test,inv_yhat_test)\n",
    "acc_train = r2_score(inv_y_train,inv_yhat_train)\n",
    "print (\"R2 score of test data: \", acc_test)\n",
    "print (\"R2 score of train data: \", acc_train)\n",
    "\n",
    "y=datetime.datetime.now()\n",
    "print('Runtime: ',y-x) "
   ]
  },
  {
   "cell_type": "code",
   "execution_count": 11,
   "metadata": {},
   "outputs": [],
   "source": [
    "res=pd.DataFrame({\"Model\": \"LSTM\",\n",
    "                  'Columns':[df1.columns.values],\n",
    "                  'Runtime':y-x,\n",
    "                  'Test RMSE':rmse_test,\n",
    "                  'Train RMSE':rmse_train,\n",
    "                  'MAE Test':round(np.mean(errors_test), 2),\n",
    "                  'MAE Train':round(np.mean(errors_train), 2),\n",
    "                  'Accuracy Test':round(accuracy_test, 2),\n",
    "                  'Accuracy Train':round(accuracy_train, 2),\n",
    "                  'R2 Test':acc_test,\n",
    "                  'R2 Train':acc_train\n",
    "                 })\n",
    "pd.options.display.max_columns = None"
   ]
  },
  {
   "cell_type": "code",
   "execution_count": 12,
   "metadata": {},
   "outputs": [],
   "source": [
    "res.to_csv('../output/lstm.csv',mode='a')\n",
    "# res.to_csv('../output/lstm.csv')"
   ]
  }
 ],
 "metadata": {
  "kernelspec": {
   "display_name": "Python 3",
   "language": "python",
   "name": "python3"
  },
  "language_info": {
   "codemirror_mode": {
    "name": "ipython",
    "version": 3
   },
   "file_extension": ".py",
   "mimetype": "text/x-python",
   "name": "python",
   "nbconvert_exporter": "python",
   "pygments_lexer": "ipython3",
   "version": "3.6.6"
  }
 },
 "nbformat": 4,
 "nbformat_minor": 2
}
