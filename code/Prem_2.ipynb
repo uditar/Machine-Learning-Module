{
 "cells": [
  {
   "cell_type": "code",
   "execution_count": 28,
   "metadata": {
    "colab": {},
    "colab_type": "code",
    "id": "oAiEpmQE-GKp"
   },
   "outputs": [],
   "source": [
    "import pandas as pd\n",
    "import numpy as np\n",
    "import random\n",
    "import matplotlib.pyplot as plt \n",
    "from sklearn.model_selection import train_test_split\n",
    "import io\n",
    "from time import time"
   ]
  },
  {
   "cell_type": "code",
   "execution_count": 29,
   "metadata": {
    "colab": {
     "base_uri": "https://localhost:8080/",
     "height": 1226
    },
    "colab_type": "code",
    "id": "1EJMdE4J-GKt",
    "outputId": "3fb41cc3-6077-4436-8221-f4eb2d99777d"
   },
   "outputs": [
    {
     "name": "stdout",
     "output_type": "stream",
     "text": [
      "   Restaurant ID         Restaurant Name  Country Code              City  \\\n",
      "0        6317637        Le Petit Souffle           162       Makati City   \n",
      "1        6304287        Izakaya Kikufuji           162       Makati City   \n",
      "2        6300002  Heat - Edsa Shangri-La           162  Mandaluyong City   \n",
      "3        6318506                    Ooma           162  Mandaluyong City   \n",
      "4        6314302             Sambo Kojin           162  Mandaluyong City   \n",
      "\n",
      "                                             Address  \\\n",
      "0  Third Floor, Century City Mall, Kalayaan Avenu...   \n",
      "1  Little Tokyo, 2277 Chino Roces Avenue, Legaspi...   \n",
      "2  Edsa Shangri-La, 1 Garden Way, Ortigas, Mandal...   \n",
      "3  Third Floor, Mega Fashion Hall, SM Megamall, O...   \n",
      "4  Third Floor, Mega Atrium, SM Megamall, Ortigas...   \n",
      "\n",
      "                                     Locality  \\\n",
      "0   Century City Mall, Poblacion, Makati City   \n",
      "1  Little Tokyo, Legaspi Village, Makati City   \n",
      "2  Edsa Shangri-La, Ortigas, Mandaluyong City   \n",
      "3      SM Megamall, Ortigas, Mandaluyong City   \n",
      "4      SM Megamall, Ortigas, Mandaluyong City   \n",
      "\n",
      "                                    Locality Verbose   Longitude   Latitude  \\\n",
      "0  Century City Mall, Poblacion, Makati City, Mak...  121.027535  14.565443   \n",
      "1  Little Tokyo, Legaspi Village, Makati City, Ma...  121.014101  14.553708   \n",
      "2  Edsa Shangri-La, Ortigas, Mandaluyong City, Ma...  121.056831  14.581404   \n",
      "3  SM Megamall, Ortigas, Mandaluyong City, Mandal...  121.056475  14.585318   \n",
      "4  SM Megamall, Ortigas, Mandaluyong City, Mandal...  121.057508  14.584450   \n",
      "\n",
      "                           Cuisines  ...           Currency Has Table booking  \\\n",
      "0        French, Japanese, Desserts  ...   Botswana Pula(P)               Yes   \n",
      "1                          Japanese  ...   Botswana Pula(P)               Yes   \n",
      "2  Seafood, Asian, Filipino, Indian  ...   Botswana Pula(P)               Yes   \n",
      "3                   Japanese, Sushi  ...   Botswana Pula(P)                No   \n",
      "4                  Japanese, Korean  ...   Botswana Pula(P)               Yes   \n",
      "\n",
      "  Has Online delivery Is delivering now Switch to order menu Price range  \\\n",
      "0                  No                No                   No           3   \n",
      "1                  No                No                   No           3   \n",
      "2                  No                No                   No           4   \n",
      "3                  No                No                   No           4   \n",
      "4                  No                No                   No           4   \n",
      "\n",
      "   Aggregate rating  Rating color Rating text Votes  \n",
      "0               4.8    Dark Green   Excellent   314  \n",
      "1               4.5    Dark Green   Excellent   591  \n",
      "2               4.4         Green   Very Good   270  \n",
      "3               4.9    Dark Green   Excellent   365  \n",
      "4               4.8    Dark Green   Excellent   229  \n",
      "\n",
      "[5 rows x 21 columns]\n"
     ]
    },
    {
     "data": {
      "text/plain": [
       "Restaurant ID             int64\n",
       "Restaurant Name          object\n",
       "Country Code              int64\n",
       "City                     object\n",
       "Address                  object\n",
       "Locality                 object\n",
       "Locality Verbose         object\n",
       "Longitude               float64\n",
       "Latitude                float64\n",
       "Cuisines                 object\n",
       "Average Cost for two      int64\n",
       "Currency                 object\n",
       "Has Table booking        object\n",
       "Has Online delivery      object\n",
       "Is delivering now        object\n",
       "Switch to order menu     object\n",
       "Price range               int64\n",
       "Aggregate rating        float64\n",
       "Rating color             object\n",
       "Rating text              object\n",
       "Votes                     int64\n",
       "dtype: object"
      ]
     },
     "execution_count": 29,
     "metadata": {},
     "output_type": "execute_result"
    }
   ],
   "source": [
    "zomato_data = pd.read_csv(r'../data/Zomato/zomato.csv',encoding='latin-1')\n",
    "print (zomato_data.head())\n",
    "zomato_data.dtypes"
   ]
  },
  {
   "cell_type": "code",
   "execution_count": 36,
   "metadata": {
    "colab": {
     "base_uri": "https://localhost:8080/",
     "height": 1142
    },
    "colab_type": "code",
    "id": "nEJWnzo5-GKz",
    "outputId": "a1e9135e-b60b-436c-a5b0-b83dc3a21e01"
   },
   "outputs": [
    {
     "name": "stdout",
     "output_type": "stream",
     "text": [
      "   Price range  Aggregate rating  Votes  Restaurant Name_#45  \\\n",
      "0            3               4.8    314                    0   \n",
      "1            3               4.5    591                    0   \n",
      "2            4               4.4    270                    0   \n",
      "3            4               4.9    365                    0   \n",
      "4            4               4.8    229                    0   \n",
      "\n",
      "   Restaurant Name_#Dilliwaala6  Restaurant Name_#OFF Campus  \\\n",
      "0                             0                            0   \n",
      "1                             0                            0   \n",
      "2                             0                            0   \n",
      "3                             0                            0   \n",
      "4                             0                            0   \n",
      "\n",
      "   Restaurant Name_#Urban Cafí©  Restaurant Name_'Ohana  \\\n",
      "0                             0                       0   \n",
      "1                             0                       0   \n",
      "2                             0                       0   \n",
      "3                             0                       0   \n",
      "4                             0                       0   \n",
      "\n",
      "   Restaurant Name_10 Downing Street  Restaurant Name_10 To 10 In Delhi  \\\n",
      "0                                  0                                  0   \n",
      "1                                  0                                  0   \n",
      "2                                  0                                  0   \n",
      "3                                  0                                  0   \n",
      "4                                  0                                  0   \n",
      "\n",
      "            ...             Currency_Rand(R)  Currency_Sri Lankan Rupee(LKR)  \\\n",
      "0           ...                            0                               0   \n",
      "1           ...                            0                               0   \n",
      "2           ...                            0                               0   \n",
      "3           ...                            0                               0   \n",
      "4           ...                            0                               0   \n",
      "\n",
      "   Currency_Turkish Lira(TL)  Has Table booking_No  Has Table booking_Yes  \\\n",
      "0                          0                     0                      1   \n",
      "1                          0                     0                      1   \n",
      "2                          0                     0                      1   \n",
      "3                          0                     1                      0   \n",
      "4                          0                     0                      1   \n",
      "\n",
      "   Has Online delivery_No  Has Online delivery_Yes  Is delivering now_No  \\\n",
      "0                       1                        0                     1   \n",
      "1                       1                        0                     1   \n",
      "2                       1                        0                     1   \n",
      "3                       1                        0                     1   \n",
      "4                       1                        0                     1   \n",
      "\n",
      "   Is delivering now_Yes  Switch to order menu_No  \n",
      "0                      0                        1  \n",
      "1                      0                        1  \n",
      "2                      0                        1  \n",
      "3                      0                        1  \n",
      "4                      0                        1  \n",
      "\n",
      "[5 rows x 13184 columns]\n"
     ]
    },
    {
     "data": {
      "text/plain": [
       "Index(['Restaurant ID', 'Country Code', 'Longitude', 'Latitude',\n",
       "       'Average Cost for two', 'Price range', 'Aggregate rating', 'Votes',\n",
       "       'Restaurant Name_#45', 'Restaurant Name_#Dilliwaala6',\n",
       "       ...\n",
       "       'Currency_Rand(R)', 'Currency_Sri Lankan Rupee(LKR)',\n",
       "       'Currency_Turkish Lira(TL)', 'Has Table booking_No',\n",
       "       'Has Table booking_Yes', 'Has Online delivery_No',\n",
       "       'Has Online delivery_Yes', 'Is delivering now_No',\n",
       "       'Is delivering now_Yes', 'Switch to order menu_No'],\n",
       "      dtype='object', length=13189)"
      ]
     },
     "execution_count": 36,
     "metadata": {
      "tags": []
     },
     "output_type": "execute_result"
    }
   ],
   "source": [
    "zomato_data = zomato_data[~(zomato_data['Votes'] <= 20)] \n",
    "zomato_data = zomato_data.drop('Rating text', axis = 1)\n",
    "zomato_data = zomato_data.drop('Rating color', axis = 1)\n",
    "zomato_data = pd.get_dummies(zomato_data)\n",
    "# Display the first 5 rows of the last 12 columns\n",
    "print (zomato_data.iloc[:,5:].head(5))\n",
    "zomato_data.columns"
   ]
  },
  {
   "cell_type": "code",
   "execution_count": 0,
   "metadata": {
    "colab": {},
    "colab_type": "code",
    "id": "pf0RXvfB-GK3"
   },
   "outputs": [],
   "source": [
    "import numpy as np\n",
    "# Labels are the values we want to predict\n",
    "labels = np.array(zomato_data['Aggregate rating'])\n",
    "# Remove the labels from the features\n",
    "# axis 1 refers to the columns\n",
    "zomato_data = zomato_data.drop('Aggregate rating', axis = 1)\n",
    "# Saving feature names for later use\n",
    "zomatodata_list = list(zomato_data.columns)\n",
    "# Convert to numpy array\n",
    "zomato_data_array = np.array(zomato_data)"
   ]
  },
  {
   "cell_type": "code",
   "execution_count": 0,
   "metadata": {
    "colab": {},
    "colab_type": "code",
    "id": "rJs3lPpb-GK6"
   },
   "outputs": [],
   "source": [
    "train_features, test_features, train_labels, test_labels = train_test_split(zomato_data_array, labels, test_size = 0.20, random_state = 0)"
   ]
  },
  {
   "cell_type": "code",
   "execution_count": 39,
   "metadata": {
    "colab": {
     "base_uri": "https://localhost:8080/",
     "height": 34
    },
    "colab_type": "code",
    "id": "OWYCDWvB-GK8",
    "outputId": "0f6a4d1b-450f-46f8-f76c-be3a2d0510b1"
   },
   "outputs": [
    {
     "name": "stdout",
     "output_type": "stream",
     "text": [
      "4334 train + 1084 test\n"
     ]
    }
   ],
   "source": [
    "print(len(train_features), \"train +\", len(test_features), \"test\")"
   ]
  },
  {
   "cell_type": "code",
   "execution_count": 40,
   "metadata": {
    "colab": {
     "base_uri": "https://localhost:8080/",
     "height": 84
    },
    "colab_type": "code",
    "id": "QpBhK1iI-GLB",
    "outputId": "f7592435-c6d3-4d9d-b39a-2a930bc680d9"
   },
   "outputs": [
    {
     "name": "stdout",
     "output_type": "stream",
     "text": [
      "Training Features Shape: (4334, 13188)\n",
      "Training Labels Shape: (4334,)\n",
      "Testing Features Shape: (1084, 13188)\n",
      "Testing Labels Shape: (1084,)\n"
     ]
    }
   ],
   "source": [
    "print('Training Features Shape:', train_features.shape)\n",
    "print('Training Labels Shape:', train_labels.shape)\n",
    "print('Testing Features Shape:', test_features.shape)\n",
    "print('Testing Labels Shape:', test_labels.shape)"
   ]
  },
  {
   "cell_type": "code",
   "execution_count": 41,
   "metadata": {
    "colab": {
     "base_uri": "https://localhost:8080/",
     "height": 34
    },
    "colab_type": "code",
    "id": "yqvA5jd1-GLE",
    "outputId": "6b828dd0-53dd-4c36-8c45-dbad1095c32a"
   },
   "outputs": [
    {
     "name": "stdout",
     "output_type": "stream",
     "text": [
      "Time Taken without pruning 834.8332779407501\n"
     ]
    }
   ],
   "source": [
    "time_Start = time()\n",
    "from sklearn.ensemble import GradientBoostingRegressor\n",
    "gbm = GradientBoostingRegressor(alpha=0.1, criterion='friedman_mse', init=None,\n",
    "             learning_rate=0.01, loss='ls', max_depth=10, max_features=None,\n",
    "             max_leaf_nodes=None, min_impurity_decrease=0.0,\n",
    "             min_impurity_split=None, min_samples_leaf=1,\n",
    "             min_samples_split=4, min_weight_fraction_leaf=0.0,\n",
    "             n_estimators=250, presort='auto', random_state=None,\n",
    "             subsample=0.5, verbose=0, warm_start=False).fit(train_features,train_labels)\n",
    "time_Taken = time() - time_Start\n",
    "print (\"Time Taken without pruning\",time_Taken)"
   ]
  },
  {
   "cell_type": "code",
   "execution_count": 42,
   "metadata": {
    "colab": {
     "base_uri": "https://localhost:8080/",
     "height": 151
    },
    "colab_type": "code",
    "id": "TAACmrGY-GLK",
    "outputId": "9d4b9f21-109f-4257-e6ff-0f1bc00265d2"
   },
   "outputs": [
    {
     "name": "stdout",
     "output_type": "stream",
     "text": [
      "Mean Absolute Error on test data: 0.26\n",
      "Accuracy of test data: 92.15 %.\n",
      "Mean Absolute Error on train data: 0.19\n",
      "Accuracy of train data: 94.43 %.\n",
      "R2 score of train data 0.823251162837494\n",
      "R2 score of test data 0.6220562173580816\n",
      "RMSE of train data 0.23193597111121647\n",
      "RMSE of test data 0.3452142482465344\n"
     ]
    }
   ],
   "source": [
    "pred = gbm.predict(test_features)\n",
    "errors = abs(pred - test_labels)\n",
    "print('Mean Absolute Error on test data:', round(np.mean(errors), 2))\n",
    "mape = 100 * (errors / test_labels)\n",
    "#print('MAPE', mape)\n",
    "accuracy = 100 - np.mean(mape)\n",
    "#print('Prediction', predictions)\n",
    "print('Accuracy of test data:', round(accuracy, 2), '%.')\n",
    "\n",
    "from sklearn.metrics import r2_score\n",
    "test_acc = r2_score(test_labels,pred)\n",
    "\n",
    "pred_train = gbm.predict(train_features)\n",
    "errors = abs(pred_train - train_labels)\n",
    "print('Mean Absolute Error on train data:', round(np.mean(errors), 2))\n",
    "mape = 100 * (errors / train_labels)\n",
    "#print('MAPE', mape)\n",
    "accuracy = 100 - np.mean(mape)\n",
    "#print('Prediction', predictions)\n",
    "print('Accuracy of train data:', round(accuracy, 2), '%.')\n",
    "train_acc = r2_score(train_labels,pred_train)\n",
    "\n",
    "print (\"R2 score of train data\" , train_acc)\n",
    "print (\"R2 score of test data\", test_acc)\n",
    "\n",
    "from sklearn.metrics import mean_squared_error\n",
    "from math import sqrt\n",
    "\n",
    "rms = sqrt(mean_squared_error(train_labels, pred_train))\n",
    "print(\"RMSE of train data\" , rms) \n",
    "rmse = sqrt(mean_squared_error(test_labels, pred))\n",
    "print(\"RMSE of test data\" , rmse) "
   ]
  },
  {
   "cell_type": "code",
   "execution_count": 44,
   "metadata": {
    "colab": {
     "base_uri": "https://localhost:8080/",
     "height": 2776
    },
    "colab_type": "code",
    "id": "Pi71EOZj-GLR",
    "outputId": "9bfc3d70-3432-4346-ccc0-d3cae2049f00"
   },
   "outputs": [
    {
     "name": "stdout",
     "output_type": "stream",
     "text": [
      "       importance                                           variable\n",
      "11527    0.000000  Locality Verbose_Two Horizon Center, Golf Cour...\n",
      "2468     0.000000           Restaurant Name_Najmat Lahore Restaurant\n",
      "2466     0.000000                           Restaurant Name_Naivedya\n",
      "2464     0.000000                    Restaurant Name_Nagpal Di Hatti\n",
      "2463     0.000000                 Restaurant Name_Nagaland's Kitchen\n",
      "2462     0.000000                           Restaurant Name_Nagaland\n",
      "2461     0.000000                              Restaurant Name_Nagai\n",
      "2460     0.000000                  Restaurant Name_Nafees Restaurant\n",
      "2459     0.000000               Restaurant Name_Nacho Mamas Burritos\n",
      "2476     0.000000                       Restaurant Name_Nariyal Cafe\n",
      "2478     0.000000                          Restaurant Name_Natalia's\n",
      "2418     0.000000                    Restaurant Name_Mughal Chic Inn\n",
      "2479     0.000000                Restaurant Name_Nathu's Pastry Shop\n",
      "4157     0.000000          Restaurant Name_Zombie Burger + Drink Lab\n",
      "4159     0.000000               Restaurant Name_Zouk Tea Bar & Grill\n",
      "2487     0.000000                    Restaurant Name_Nature Hut Cafe\n",
      "4161     0.000000                      Restaurant Name_Zuka Choco-la\n",
      "4162     0.000000             Restaurant Name_Zune - Piccadily Hotel\n",
      "4163     0.000000                            Restaurant Name_Zunzi's\n",
      "2484     0.000000            Restaurant Name_Natraj Dahi Bhalle Wala\n",
      "4165     0.000000                             Restaurant Name_buí©no\n",
      "4166     0.000000                     Restaurant Name_d' Curry House\n",
      "2469     0.000000            Restaurant Name_Nakshatra Punjabi Rasoi\n",
      "4189     0.000000                                       City_Bandung\n",
      "4188     0.000000                                      City_Balingup\n",
      "2471     0.000000                       Restaurant Name_NamlÛ± Gurme\n",
      "4311     0.000000  Address_1 & 21 KD, Ground Floor, DDA Market, P...\n",
      "4303     0.000000                                       City_Weirton\n",
      "2372     0.000000      Restaurant Name_Monkeypod Kitchen by Merriman\n",
      "4305     0.000000                                       City_Yorkton\n",
      "...           ...                                                ...\n",
      "6747     0.001345               Address_B-3/66, Janakpuri, New Delhi\n",
      "12919    0.001364                     Cuisines_North Indian, Mughlai\n",
      "3220     0.001455                     Restaurant Name_Slice of Italy\n",
      "11546    0.001464  Locality Verbose_V3S Mall, Laxmi Nagar, New Delhi\n",
      "13171    0.001488                                 Currency_Dollar($)\n",
      "1844     0.001492                                Restaurant Name_KFC\n",
      "10432    0.001605                     Locality_V3S Mall, Laxmi Nagar\n",
      "12572    0.001641                    Cuisines_Italian, Pizza, Bakery\n",
      "4258     0.001737                                     City_New Delhi\n",
      "12778    0.001894          Cuisines_North Indian, Chinese, Fast Food\n",
      "12467    0.001899                       Cuisines_Ice Cream, Desserts\n",
      "13173    0.001934                        Currency_Indian Rupees(Rs.)\n",
      "4259     0.001943                                         City_Noida\n",
      "13009    0.002052                          Cuisines_Pizza, Fast Food\n",
      "4036     0.002181                         Restaurant Name_Wah Ji Wah\n",
      "11788    0.002192                          Cuisines_Bakery, Desserts\n",
      "1148     0.002276                     Restaurant Name_Domino's Pizza\n",
      "3035     0.002404                        Restaurant Name_Sagar Ratna\n",
      "2743     0.003023                      Restaurant Name_Pind Balluchi\n",
      "12760    0.003980                     Cuisines_North Indian, Chinese\n",
      "1        0.005472                                       Country Code\n",
      "13183    0.005654                             Has Online delivery_No\n",
      "13184    0.005915                            Has Online delivery_Yes\n",
      "13170    0.007851                        Currency_Brazilian Real(R$)\n",
      "5        0.009479                                        Price range\n",
      "4        0.038690                               Average Cost for two\n",
      "3        0.048886                                           Latitude\n",
      "2        0.061457                                          Longitude\n",
      "0        0.244806                                      Restaurant ID\n",
      "6        0.332920                                              Votes\n",
      "\n",
      "[13188 rows x 2 columns]\n",
      "       importance                                           variable\n",
      "11527    0.000000  Locality Verbose_Two Horizon Center, Golf Cour...\n",
      "2468     0.000000           Restaurant Name_Najmat Lahore Restaurant\n",
      "2466     0.000000                           Restaurant Name_Naivedya\n",
      "2464     0.000000                    Restaurant Name_Nagpal Di Hatti\n",
      "2463     0.000000                 Restaurant Name_Nagaland's Kitchen\n",
      "2462     0.000000                           Restaurant Name_Nagaland\n",
      "2461     0.000000                              Restaurant Name_Nagai\n",
      "2460     0.000000                  Restaurant Name_Nafees Restaurant\n",
      "2459     0.000000               Restaurant Name_Nacho Mamas Burritos\n",
      "2476     0.000000                       Restaurant Name_Nariyal Cafe\n",
      "2478     0.000000                          Restaurant Name_Natalia's\n",
      "2418     0.000000                    Restaurant Name_Mughal Chic Inn\n",
      "2479     0.000000                Restaurant Name_Nathu's Pastry Shop\n",
      "4157     0.000000          Restaurant Name_Zombie Burger + Drink Lab\n",
      "4159     0.000000               Restaurant Name_Zouk Tea Bar & Grill\n",
      "2487     0.000000                    Restaurant Name_Nature Hut Cafe\n",
      "4161     0.000000                      Restaurant Name_Zuka Choco-la\n",
      "4162     0.000000             Restaurant Name_Zune - Piccadily Hotel\n",
      "4163     0.000000                            Restaurant Name_Zunzi's\n",
      "2484     0.000000            Restaurant Name_Natraj Dahi Bhalle Wala\n",
      "4165     0.000000                             Restaurant Name_buí©no\n",
      "4166     0.000000                     Restaurant Name_d' Curry House\n",
      "2469     0.000000            Restaurant Name_Nakshatra Punjabi Rasoi\n",
      "4189     0.000000                                       City_Bandung\n",
      "4188     0.000000                                      City_Balingup\n",
      "2471     0.000000                       Restaurant Name_NamlÛ± Gurme\n",
      "4311     0.000000  Address_1 & 21 KD, Ground Floor, DDA Market, P...\n",
      "4303     0.000000                                       City_Weirton\n",
      "2372     0.000000      Restaurant Name_Monkeypod Kitchen by Merriman\n",
      "4305     0.000000                                       City_Yorkton\n",
      "...           ...                                                ...\n",
      "6747     0.001345               Address_B-3/66, Janakpuri, New Delhi\n",
      "12919    0.001364                     Cuisines_North Indian, Mughlai\n",
      "3220     0.001455                     Restaurant Name_Slice of Italy\n",
      "11546    0.001464  Locality Verbose_V3S Mall, Laxmi Nagar, New Delhi\n",
      "13171    0.001488                                 Currency_Dollar($)\n",
      "1844     0.001492                                Restaurant Name_KFC\n",
      "10432    0.001605                     Locality_V3S Mall, Laxmi Nagar\n",
      "12572    0.001641                    Cuisines_Italian, Pizza, Bakery\n",
      "4258     0.001737                                     City_New Delhi\n",
      "12778    0.001894          Cuisines_North Indian, Chinese, Fast Food\n",
      "12467    0.001899                       Cuisines_Ice Cream, Desserts\n",
      "13173    0.001934                        Currency_Indian Rupees(Rs.)\n",
      "4259     0.001943                                         City_Noida\n",
      "13009    0.002052                          Cuisines_Pizza, Fast Food\n",
      "4036     0.002181                         Restaurant Name_Wah Ji Wah\n",
      "11788    0.002192                          Cuisines_Bakery, Desserts\n",
      "1148     0.002276                     Restaurant Name_Domino's Pizza\n",
      "3035     0.002404                        Restaurant Name_Sagar Ratna\n",
      "2743     0.003023                      Restaurant Name_Pind Balluchi\n",
      "12760    0.003980                     Cuisines_North Indian, Chinese\n",
      "1        0.005472                                       Country Code\n",
      "13183    0.005654                             Has Online delivery_No\n",
      "13184    0.005915                            Has Online delivery_Yes\n",
      "13170    0.007851                        Currency_Brazilian Real(R$)\n",
      "5        0.009479                                        Price range\n",
      "4        0.038690                               Average Cost for two\n",
      "3        0.048886                                           Latitude\n",
      "2        0.061457                                          Longitude\n",
      "0        0.244806                                      Restaurant ID\n",
      "6        0.332920                                              Votes\n",
      "\n",
      "[13188 rows x 2 columns]\n"
     ]
    },
    {
     "data": {
      "text/plain": [
       "Text(0.5,0,'Variable')"
      ]
     },
     "execution_count": 44,
     "metadata": {
      "tags": []
     },
     "output_type": "execute_result"
    },
    {
     "data": {
      "text/plain": [
       "<matplotlib.figure.Figure at 0x7f3f27cc8208>"
      ]
     },
     "metadata": {
      "tags": []
     },
     "output_type": "display_data"
    },
    {
     "data": {
      "image/png": "[encoded data removed]",
      "text/plain": [
       "<matplotlib.figure.Figure at 0x7f3f27d06240>"
      ]
     },
     "metadata": {
      "tags": []
     },
     "output_type": "display_data"
    }
   ],
   "source": [
    "imp = pd.DataFrame(gbm.feature_importances_)\n",
    "imp['colname'] = zomatodata_list\n",
    "imp.columns = ['importance','variable']\n",
    "imp = imp.sort_values(by = ['importance'], ascending = False)\n",
    "print (imp.sort_values(by = ['importance']))\n",
    "imp_plot = imp.iloc[:30,:]\n",
    "print (imp.sort_values(by = ['importance']))\n",
    "plt.figure()\n",
    "# imp[:30].plot(kind='barh',fontsize=10)\n",
    "imp.importance = imp.importance.astype(float)\n",
    "imp_plot.plot(x=\"variable\", y=\"importance\", kind=\"bar\", fontsize=10, legend=None)\n",
    "plt.ylabel(\"Importance\", fontsize=15)\n",
    "plt.xlabel(\"Variable\", fontsize=15)"
   ]
  },
  {
   "cell_type": "code",
   "execution_count": 45,
   "metadata": {
    "colab": {
     "base_uri": "https://localhost:8080/",
     "height": 70
    },
    "colab_type": "code",
    "id": "UX1DAUMI-GLY",
    "outputId": "f7cf002c-d1d3-40fe-eff4-2010551f880d"
   },
   "outputs": [
    {
     "name": "stdout",
     "output_type": "stream",
     "text": [
      "24\n",
      "['Restaurant ID', 'Country Code', 'Longitude', 'Latitude', 'Average Cost for two', 'Price range', 'Votes', \"Restaurant Name_Domino's Pizza\", 'Restaurant Name_Pind Balluchi', 'Restaurant Name_Sagar Ratna', 'Restaurant Name_Wah Ji Wah', 'City_New Delhi', 'City_Noida', 'Locality_V3S Mall, Laxmi Nagar', 'Cuisines_Bakery, Desserts', 'Cuisines_Ice Cream, Desserts', 'Cuisines_Italian, Pizza, Bakery', 'Cuisines_North Indian, Chinese', 'Cuisines_North Indian, Chinese, Fast Food', 'Cuisines_Pizza, Fast Food', 'Currency_Brazilian Real(R$)', 'Currency_Indian Rupees(Rs.)', 'Has Online delivery_No', 'Has Online delivery_Yes']\n"
     ]
    }
   ],
   "source": [
    "# print (imp['importance'][0])\n",
    "# print (imp['variable'][0])\n",
    "# print (imp)\n",
    "zomato_data_copy = zomato_data\n",
    "for i in range (0,len(imp)):\n",
    "    if imp['importance'][i] < 0.0015:\n",
    "        zomato_data_copy = zomato_data_copy.drop(str(imp['variable'][i]), axis = 1)\n",
    "zomatodata_list = list(zomato_data_copy.columns)\n",
    "# Convert to numpy array\n",
    "zomato_data_array = np.array(zomato_data_copy)\n",
    "print (len(zomatodata_list))\n",
    "print (zomatodata_list)"
   ]
  },
  {
   "cell_type": "code",
   "execution_count": 0,
   "metadata": {
    "colab": {},
    "colab_type": "code",
    "id": "7-BnI9fB-GLb"
   },
   "outputs": [],
   "source": [
    "train_features, test_features, train_labels, test_labels = train_test_split(zomato_data_array, labels, test_size = 0.20, random_state = 0)"
   ]
  },
  {
   "cell_type": "code",
   "execution_count": 47,
   "metadata": {
    "colab": {
     "base_uri": "https://localhost:8080/",
     "height": 34
    },
    "colab_type": "code",
    "id": "HhneQhQH-GLe",
    "outputId": "6d1ee05c-3743-4256-9cf7-9870c11f34d6"
   },
   "outputs": [
    {
     "name": "stdout",
     "output_type": "stream",
     "text": [
      "4334 train + 1084 test\n"
     ]
    }
   ],
   "source": [
    "print(len(train_features), \"train +\", len(test_features), \"test\")"
   ]
  },
  {
   "cell_type": "code",
   "execution_count": 48,
   "metadata": {
    "colab": {
     "base_uri": "https://localhost:8080/",
     "height": 84
    },
    "colab_type": "code",
    "id": "o4bPsmGL-GLh",
    "outputId": "187ece69-5eac-4c81-ceb0-e433dc6c90b8"
   },
   "outputs": [
    {
     "name": "stdout",
     "output_type": "stream",
     "text": [
      "Training Features Shape: (4334, 24)\n",
      "Training Labels Shape: (4334,)\n",
      "Testing Features Shape: (1084, 24)\n",
      "Testing Labels Shape: (1084,)\n"
     ]
    }
   ],
   "source": [
    "print('Training Features Shape:', train_features.shape)\n",
    "print('Training Labels Shape:', train_labels.shape)\n",
    "print('Testing Features Shape:', test_features.shape)\n",
    "print('Testing Labels Shape:', test_labels.shape)"
   ]
  },
  {
   "cell_type": "code",
   "execution_count": 50,
   "metadata": {
    "colab": {
     "base_uri": "https://localhost:8080/",
     "height": 34
    },
    "colab_type": "code",
    "id": "dXXdGGIy-GLk",
    "outputId": "4b1088a8-5d8a-4a84-df55-853d7c91ea7a"
   },
   "outputs": [
    {
     "name": "stdout",
     "output_type": "stream",
     "text": [
      "Time Taken after pruning 4.3661980628967285\n"
     ]
    }
   ],
   "source": [
    "time_Start = time()\n",
    "from sklearn.ensemble import GradientBoostingRegressor\n",
    "gbm = GradientBoostingRegressor(alpha=0.1, criterion='friedman_mse', init=None,\n",
    "             learning_rate=0.05, loss='ls', max_depth=10, max_features=None,\n",
    "             max_leaf_nodes=None, min_impurity_decrease=0.0,\n",
    "             min_impurity_split=None, min_samples_leaf=1,\n",
    "             min_samples_split=4, min_weight_fraction_leaf=0.0,\n",
    "             n_estimators=250, presort='auto', random_state=None,\n",
    "             subsample=0.5, verbose=0, warm_start=False).fit(train_features,train_labels)\n",
    "time_Taken = time() - time_Start\n",
    "print (\"Time Taken after pruning\",time_Taken)"
   ]
  },
  {
   "cell_type": "code",
   "execution_count": 51,
   "metadata": {
    "colab": {
     "base_uri": "https://localhost:8080/",
     "height": 151
    },
    "colab_type": "code",
    "id": "MPCT0DSv-GLp",
    "outputId": "ad5e0eb0-af49-4e6f-8cf7-7092f1384981"
   },
   "outputs": [
    {
     "name": "stdout",
     "output_type": "stream",
     "text": [
      "Mean Absolute Error on test data: 0.27\n",
      "Accuracy of test data: 91.85 %.\n",
      "Mean Absolute Error on train data: 0.08\n",
      "Accuracy of train data: 97.79 %.\n",
      "R2 score of train data 0.9710161341949104\n",
      "R2 score of test data 0.6000316870702354\n",
      "RMSE of train data 0.09392214044563874\n",
      "RMSE of test data 0.35513044267791144\n"
     ]
    }
   ],
   "source": [
    "pred = gbm.predict(test_features)\n",
    "errors = abs(pred - test_labels)\n",
    "print('Mean Absolute Error on test data:', round(np.mean(errors), 2))\n",
    "mape = 100 * (errors / test_labels)\n",
    "#print('MAPE', mape)\n",
    "accuracy = 100 - np.mean(mape)\n",
    "#print('Prediction', predictions)\n",
    "print('Accuracy of test data:', round(accuracy, 2), '%.')\n",
    "\n",
    "from sklearn.metrics import r2_score\n",
    "test_acc = r2_score(test_labels,pred)\n",
    "\n",
    "pred_train = gbm.predict(train_features)\n",
    "errors = abs(pred_train - train_labels)\n",
    "print('Mean Absolute Error on train data:', round(np.mean(errors), 2))\n",
    "mape = 100 * (errors / train_labels)\n",
    "#print('MAPE', mape)\n",
    "accuracy = 100 - np.mean(mape)\n",
    "#print('Prediction', predictions)\n",
    "print('Accuracy of train data:', round(accuracy, 2), '%.')\n",
    "train_acc = r2_score(train_labels,pred_train)\n",
    "\n",
    "print (\"R2 score of train data\" , train_acc)\n",
    "print (\"R2 score of test data\", test_acc)\n",
    "\n",
    "from sklearn.metrics import mean_squared_error\n",
    "from math import sqrt\n",
    "\n",
    "rms = sqrt(mean_squared_error(train_labels, pred_train))\n",
    "print(\"RMSE of train data\" , rms) \n",
    "rmse = sqrt(mean_squared_error(test_labels, pred))\n",
    "print(\"RMSE of test data\" , rmse) "
   ]
  },
  {
   "cell_type": "code",
   "execution_count": 52,
   "metadata": {
    "colab": {
     "base_uri": "https://localhost:8080/",
     "height": 1415
    },
    "colab_type": "code",
    "id": "_syE9q2v-GLs",
    "outputId": "e1a78098-b18d-4f38-c7f2-8db4326c5735"
   },
   "outputs": [
    {
     "name": "stdout",
     "output_type": "stream",
     "text": [
      "    importance                                   variable\n",
      "21    0.000704                Currency_Indian Rupees(Rs.)\n",
      "7     0.002068             Restaurant Name_Domino's Pizza\n",
      "15    0.002150               Cuisines_Ice Cream, Desserts\n",
      "11    0.002551                             City_New Delhi\n",
      "14    0.002958                  Cuisines_Bakery, Desserts\n",
      "19    0.003000                  Cuisines_Pizza, Fast Food\n",
      "10    0.003118                 Restaurant Name_Wah Ji Wah\n",
      "12    0.003221                                 City_Noida\n",
      "9     0.003223                Restaurant Name_Sagar Ratna\n",
      "13    0.003703             Locality_V3S Mall, Laxmi Nagar\n",
      "16    0.003783            Cuisines_Italian, Pizza, Bakery\n",
      "18    0.003791  Cuisines_North Indian, Chinese, Fast Food\n",
      "8     0.004266              Restaurant Name_Pind Balluchi\n",
      "20    0.005348                Currency_Brazilian Real(R$)\n",
      "1     0.006271                               Country Code\n",
      "17    0.006953             Cuisines_North Indian, Chinese\n",
      "22    0.007472                     Has Online delivery_No\n",
      "23    0.008637                    Has Online delivery_Yes\n",
      "5     0.012612                                Price range\n",
      "4     0.071776                       Average Cost for two\n",
      "3     0.119082                                   Latitude\n",
      "2     0.133560                                  Longitude\n",
      "0     0.270310                              Restaurant ID\n",
      "6     0.319443                                      Votes\n",
      "    importance                                   variable\n",
      "21    0.000704                Currency_Indian Rupees(Rs.)\n",
      "7     0.002068             Restaurant Name_Domino's Pizza\n",
      "15    0.002150               Cuisines_Ice Cream, Desserts\n",
      "11    0.002551                             City_New Delhi\n",
      "14    0.002958                  Cuisines_Bakery, Desserts\n",
      "19    0.003000                  Cuisines_Pizza, Fast Food\n",
      "10    0.003118                 Restaurant Name_Wah Ji Wah\n",
      "12    0.003221                                 City_Noida\n",
      "9     0.003223                Restaurant Name_Sagar Ratna\n",
      "13    0.003703             Locality_V3S Mall, Laxmi Nagar\n",
      "16    0.003783            Cuisines_Italian, Pizza, Bakery\n",
      "18    0.003791  Cuisines_North Indian, Chinese, Fast Food\n",
      "8     0.004266              Restaurant Name_Pind Balluchi\n",
      "20    0.005348                Currency_Brazilian Real(R$)\n",
      "1     0.006271                               Country Code\n",
      "17    0.006953             Cuisines_North Indian, Chinese\n",
      "22    0.007472                     Has Online delivery_No\n",
      "23    0.008637                    Has Online delivery_Yes\n",
      "5     0.012612                                Price range\n",
      "4     0.071776                       Average Cost for two\n",
      "3     0.119082                                   Latitude\n",
      "2     0.133560                                  Longitude\n",
      "0     0.270310                              Restaurant ID\n",
      "6     0.319443                                      Votes\n"
     ]
    },
    {
     "data": {
      "text/plain": [
       "Text(0.5,0,'Variable')"
      ]
     },
     "execution_count": 52,
     "metadata": {
      "tags": []
     },
     "output_type": "execute_result"
    },
    {
     "data": {
      "text/plain": [
       "<matplotlib.figure.Figure at 0x7f3f27e24780>"
      ]
     },
     "metadata": {
      "tags": []
     },
     "output_type": "display_data"
    },
    {
     "data": {
      "image/png": "[encoded data removed]",
      "text/plain": [
       "<matplotlib.figure.Figure at 0x7f3f27d4ab70>"
      ]
     },
     "metadata": {
      "tags": []
     },
     "output_type": "display_data"
    }
   ],
   "source": [
    "imp = pd.DataFrame(gbm.feature_importances_)\n",
    "imp['colname'] = zomatodata_list\n",
    "imp.columns = ['importance','variable']\n",
    "imp = imp.sort_values(by = ['importance'], ascending = False)\n",
    "print (imp.sort_values(by = ['importance']))\n",
    "imp_plot = imp.iloc[:35,:]\n",
    "print (imp.sort_values(by = ['importance']))\n",
    "plt.figure(figsize=(80,50))\n",
    "# imp[:30].plot(kind='barh',fontsize=10)\n",
    "imp.importance = imp.importance.astype(float)\n",
    "imp_plot.plot(x=\"variable\", y=\"importance\", kind=\"bar\", fontsize=10 )\n",
    "plt.ylabel(\"Importance\", fontsize=10)\n",
    "plt.xlabel(\"Variable\", fontsize=10)"
   ]
  }
 ],
 "metadata": {
  "accelerator": "GPU",
  "colab": {
   "collapsed_sections": [],
   "name": "Prem_2.ipynb",
   "provenance": [],
   "version": "0.3.2"
  },
  "kernelspec": {
   "display_name": "Python 3",
   "language": "python",
   "name": "python3"
  },
  "language_info": {
   "codemirror_mode": {
    "name": "ipython",
    "version": 3
   },
   "file_extension": ".py",
   "mimetype": "text/x-python",
   "name": "python",
   "nbconvert_exporter": "python",
   "pygments_lexer": "ipython3",
   "version": "3.7.0"
  }
 },
 "nbformat": 4,
 "nbformat_minor": 1
}
