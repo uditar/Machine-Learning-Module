{
  "nbformat": 4,
  "nbformat_minor": 0,
  "metadata": {
    "colab": {
      "name": "udita_phase2.ipynb",
      "version": "0.3.2",
      "provenance": []
    },
    "kernelspec": {
      "name": "python3",
      "display_name": "Python 3"
    },
    "accelerator": "GPU"
  },
  "cells": [
    {
      "metadata": {
        "id": "MBKIa6NynwJ_",
        "colab_type": "code",
        "colab": {}
      },
      "cell_type": "code",
      "source": [
        "import pandas as pd\n",
        "import numpy as np\n",
        "import random\n",
        "import matplotlib.pyplot as plt \n",
        "from sklearn.model_selection import train_test_split\n",
        "import io\n",
        "from time import time"
      ],
      "execution_count": 0,
      "outputs": []
    },
    {
      "metadata": {
        "id": "5lLlJSjCnwKI",
        "colab_type": "code",
        "outputId": "8a23f0b3-c7a5-42c6-9c78-3699514bc5a8",
        "colab": {
          "base_uri": "https://localhost:8080/",
          "height": 35
        }
      },
      "cell_type": "code",
      "source": [
        "#from google.colab import drive\n",
        "#drive.mount(\"/content/drive\")\n"
      ],
      "execution_count": 96,
      "outputs": [
        {
          "output_type": "stream",
          "text": [
            "Drive already mounted at /content/drive; to attempt to forcibly remount, call drive.mount(\"/content/drive\", force_remount=True).\n"
          ],
          "name": "stdout"
        }
      ]
    },
    {
      "metadata": {
        "id": "kcjY-n2vo1Nf",
        "colab_type": "code",
        "colab": {}
      },
      "cell_type": "code",
      "source": [
        "zomatodata = pd.read_csv(\"../data/Zomato/zomato.csv\", sep=',', encoding='latin-1')\n",
        "zomatodata\n"
      ],
      "execution_count": 0,
      "outputs": []
    },
    {
      "metadata": {
        "id": "GWim4sRPnwKw",
        "colab_type": "code",
        "colab": {}
      },
      "cell_type": "code",
      "source": [
        "#remove data with votes less than 20\n",
        "zomatodata = zomatodata[~(zomatodata['Votes'] <= 20)] \n",
        "#remove duplicate data\n",
        "zomatodata = zomatodata.drop('Rating text', axis = 1)\n",
        "zomatodata = zomatodata.drop('Rating color', axis = 1)\n",
        "zomatodata = pd.get_dummies(zomatodata)\n",
        "# Display the first 5 rows of the last 12 columns\n",
        "zomatodata.iloc[:,5:].head(5)"
      ],
      "execution_count": 0,
      "outputs": []
    },
    {
      "metadata": {
        "id": "HnBoO4QHnwK-",
        "colab_type": "code",
        "colab": {}
      },
      "cell_type": "code",
      "source": [
        "import numpy as np\n",
        "# Labels are the values we want to predict\n",
        "labels = np.array(zomatodata['Aggregate rating'])\n",
        "# Remove the labels from the features\n",
        "# axis 1 refers to the columns\n",
        "zomatodata= zomatodata.drop('Aggregate rating', axis = 1)\n",
        "# Saving feature names for later use\n",
        "zomatodatalist = list(zomatodata.columns)\n",
        "# Convert to numpy array\n",
        "zomatodata_array = np.array(zomatodata)"
      ],
      "execution_count": 0,
      "outputs": []
    },
    {
      "metadata": {
        "id": "dTY594RpnwLE",
        "colab_type": "code",
        "colab": {}
      },
      "cell_type": "code",
      "source": [
        "train_features, test_features, train_labels, test_labels = train_test_split(zomatodata, labels, test_size = 0.2, random_state = 0)"
      ],
      "execution_count": 0,
      "outputs": []
    },
    {
      "metadata": {
        "id": "SSIUX8rZnwLL",
        "colab_type": "code",
        "colab": {
          "base_uri": "https://localhost:8080/",
          "height": 35
        },
        "outputId": "1ced985f-44c6-4468-8795-55b26ffbd69d"
      },
      "cell_type": "code",
      "source": [
        "print(len(train_features), \"train +\", len(test_features), \"test\")"
      ],
      "execution_count": 51,
      "outputs": [
        {
          "output_type": "stream",
          "text": [
            "4334 train + 1084 test\n"
          ],
          "name": "stdout"
        }
      ]
    },
    {
      "metadata": {
        "id": "v0T3M-MZnwLU",
        "colab_type": "code",
        "colab": {
          "base_uri": "https://localhost:8080/",
          "height": 88
        },
        "outputId": "cdac7155-ea16-4f9e-d019-e6af1976614d"
      },
      "cell_type": "code",
      "source": [
        "print('Training Features Shape:', train_features.shape)\n",
        "print('Training Labels Shape:', train_labels.shape)\n",
        "print('Testing Features Shape:', test_features.shape)\n",
        "print('Testing Labels Shape:', test_labels.shape)"
      ],
      "execution_count": 22,
      "outputs": [
        {
          "output_type": "stream",
          "text": [
            "Training Features Shape: (4334, 13188)\n",
            "Training Labels Shape: (4334,)\n",
            "Testing Features Shape: (1084, 13188)\n",
            "Testing Labels Shape: (1084,)\n"
          ],
          "name": "stdout"
        }
      ]
    },
    {
      "metadata": {
        "id": "93B__g-tnwLd",
        "colab_type": "code",
        "colab": {
          "base_uri": "https://localhost:8080/",
          "height": 35
        },
        "outputId": "5fb691f3-d2df-4da9-becc-75773e078f7b"
      },
      "cell_type": "code",
      "source": [
        "time_Start = time()\n",
        "from sklearn.ensemble import RandomForestRegressor\n",
        "# Instantiate model with 100 decision trees\n",
        "rf = RandomForestRegressor(n_estimators = 50,n_jobs=-1, random_state=42)\n",
        "# Train the model on training data\n",
        "rf.fit(train_features, train_labels);\n",
        "time_Taken = time() - time_Start\n",
        "print (\"Time Taken after pruning\",time_Taken)"
      ],
      "execution_count": 109,
      "outputs": [
        {
          "output_type": "stream",
          "text": [
            "Time Taken after pruning 38.89216995239258\n"
          ],
          "name": "stdout"
        }
      ]
    },
    {
      "metadata": {
        "id": "bBGO6b1tnwLq",
        "colab_type": "code",
        "outputId": "84b2afa6-9e7f-421b-9067-20d53d304e0c",
        "colab": {
          "base_uri": "https://localhost:8080/",
          "height": 52
        }
      },
      "cell_type": "code",
      "source": [
        "predictions = rf.predict(test_features) #predictions on test data\n",
        "errors = abs(predictions - test_labels)\n",
        "#print(errors)\n",
        "print('Mean Absolute Error on test data:', round(np.mean(errors), 2))\n",
        "#print(test_labels)\n",
        "mape = 100 * (errors / test_labels)\n",
        "#print('MAPE', mape)\n",
        "accuracy = 100 - np.mean(mape)\n",
        "#print('Prediction', predictions)\n",
        "print('Accuracy of test data:', (accuracy), '%.')"
      ],
      "execution_count": 110,
      "outputs": [
        {
          "output_type": "stream",
          "text": [
            "Mean Absolute Error on test data: 0.26\n",
            "Accuracy of test data: 92.10092167848997 %.\n"
          ],
          "name": "stdout"
        }
      ]
    },
    {
      "metadata": {
        "id": "z79eyNDwnwMD",
        "colab_type": "code",
        "outputId": "99de8693-b5db-4ab1-a939-5a2dec878e62",
        "colab": {
          "base_uri": "https://localhost:8080/",
          "height": 52
        }
      },
      "cell_type": "code",
      "source": [
        "from sklearn.metrics import mean_squared_error\n",
        "from math import sqrt\n",
        "\n",
        "rms = sqrt(mean_squared_error(train_labels, pred_train))\n",
        "print(\"RMSE of train data\" , rms) \n",
        "rmse = sqrt(mean_squared_error(test_labels, predictions))\n",
        "print(\"RMSE of test data\" , rmse) "
      ],
      "execution_count": 83,
      "outputs": [
        {
          "output_type": "stream",
          "text": [
            "RMSE of train data 0.12752163782118728\n",
            "RMSE of test data 0.34911470232887987\n"
          ],
          "name": "stdout"
        }
      ]
    },
    {
      "metadata": {
        "id": "nv_S54rpANIw",
        "colab_type": "code",
        "colab": {}
      },
      "cell_type": "code",
      "source": [
        "imp = pd.DataFrame(rf.feature_importances_)\n",
        "imp['colname'] = zomatodatalist\n",
        "imp.columns = ['importance','variable']\n",
        "imp = imp.sort_values(by = ['importance'], ascending = False)\n",
        "print (imp.sort_values(by = ['importance']))\n",
        "imp_plot = imp.iloc[:30,:]\n",
        "print (imp.sort_values(by = ['importance']))\n",
        "plt.figure()\n",
        "# imp[:30].plot(kind='barh',fontsize=10)\n",
        "imp.importance = imp.importance.astype(float)\n",
        "imp_plot.plot(x=\"variable\", y=\"importance\", kind=\"bar\", fontsize=10, legend=None)\n",
        "plt.ylabel(\"Importance\", fontsize=15)\n",
        "plt.xlabel(\"Variable\", fontsize=15)\n",
        "# print (imp['importance'][0])\n",
        "# print (imp['variable'][0])\n",
        "# print (imp)\n",
        "zomato_data_copy = zomatodata\n",
        "print(zomato_data_copy)\n",
        "for i in range (0,len(imp)):\n",
        "    if imp['importance'][i] < 0.0015:\n",
        "        zomato_data_copy = zomato_data_copy.drop(str(imp['variable'][i]), axis = 1)\n",
        "zomatodatalist = list(zomato_data_copy.columns)\n",
        "# Convert to numpy array\n",
        "zomato_data_array = np.array(zomato_data_copy)\n",
        "print (len(zomatodatalist))\n",
        "print (zomatodatalist)"
      ],
      "execution_count": 0,
      "outputs": []
    },
    {
      "metadata": {
        "id": "Cu80pLkC1348",
        "colab_type": "code",
        "colab": {}
      },
      "cell_type": "code",
      "source": [
        "train_features, test_features, train_labels, test_labels = train_test_split(zomatodata_array, labels, test_size = 0.20, random_state = 0)\n",
        "from sklearn.ensemble import RandomForestRegressor"
      ],
      "execution_count": 0,
      "outputs": []
    },
    {
      "metadata": {
        "id": "upsKZDJNEnxZ",
        "colab_type": "code",
        "colab": {
          "base_uri": "https://localhost:8080/",
          "height": 35
        },
        "outputId": "c0b5d02c-a8e2-40ed-e575-f030f70243fc"
      },
      "cell_type": "code",
      "source": [
        "# Instantiate model with 100 decision trees\n",
        "time_Start = time()\n",
        "rf = RandomForestRegressor(n_estimators = 50,n_jobs=-1, random_state=42)\n",
        "# Train the model on training data\n",
        "rf.fit(train_features, train_labels);\n",
        "time_Taken = time() - time_Start\n",
        "print (\"Time Taken after pruning\",time_Taken)"
      ],
      "execution_count": 116,
      "outputs": [
        {
          "output_type": "stream",
          "text": [
            "Time Taken after pruning 153.90017557144165\n"
          ],
          "name": "stdout"
        }
      ]
    },
    {
      "metadata": {
        "id": "z2lotW-92Am4",
        "colab_type": "code",
        "colab": {}
      },
      "cell_type": "code",
      "source": [
        "\n",
        "predictions = rf.predict(test_features) #predictions on test data\n",
        "errors = abs(predictions - test_labels)"
      ],
      "execution_count": 0,
      "outputs": []
    },
    {
      "metadata": {
        "id": "fyDXq25dnwM1",
        "colab_type": "code",
        "outputId": "6045962b-ae45-4b7d-f688-5b26299a6d6b",
        "colab": {
          "base_uri": "https://localhost:8080/",
          "height": 124
        }
      },
      "cell_type": "code",
      "source": [
        "print('Mean Absolute Error test data after pruning:', round(np.mean(errors), 2))\n",
        "mape = 100 * (errors / test_labels)\n",
        "#print('MAPE', mape)\n",
        "accuracy = 100 - np.mean(mape)\n",
        "#print('Prediction', predictions)\n",
        "print('Accuracy of test data:', round(accuracy, 2), '%.')\n",
        "from sklearn.metrics import r2_score\n",
        "test_acc = r2_score(test_labels,predictions)\n",
        "\n",
        "pred_train = rf_most_important.predict(train_important)\n",
        "train_acc = r2_score(train_labels,pred_train)\n",
        "print (\"R2 score of train data after pruning\", train_acc)\n",
        "print (\"R2 score of test data after pruning\", test_acc)\n",
        "\n",
        "from sklearn.metrics import mean_squared_error\n",
        "from math import sqrt\n",
        "\n",
        "rms = sqrt(mean_squared_error(train_labels, pred_train))\n",
        "print(\"RMSE of train data after pruning\", rms) \n",
        "rmse = sqrt(mean_squared_error(test_labels, predictions))\n",
        "print(\"RMSE of test data after pruning\", rmse) "
      ],
      "execution_count": 90,
      "outputs": [
        {
          "output_type": "stream",
          "text": [
            "Mean Absolute Error test data after pruning: 0.26\n",
            "Accuracy of test data: 92.1 %.\n",
            "R2 score of train data after pruning 0.9465696386505652\n",
            "R2 score of test data after pruning 0.6152869093731188\n",
            "RMSE of train data after pruning 0.12752163782118728\n",
            "RMSE of test data after pruning 0.3482920742763034\n"
          ],
          "name": "stdout"
        }
      ]
    },
    {
      "metadata": {
        "id": "wM7sZgiy9g2E",
        "colab_type": "code",
        "outputId": "fd7eeaaf-a078-4857-a49d-0f1fbfa2eb23",
        "colab": {
          "base_uri": "https://localhost:8080/",
          "height": 90
        }
      },
      "cell_type": "code",
      "source": [
        "print('Parameters currently in use:\\n')\n",
        "print(rf.get_params())"
      ],
      "execution_count": 0,
      "outputs": [
        {
          "output_type": "stream",
          "text": [
            "Parameters currently in use:\n",
            "\n",
            "{'bootstrap': True, 'criterion': 'mse', 'max_depth': None, 'max_features': 'auto', 'max_leaf_nodes': None, 'min_impurity_decrease': 0.0, 'min_impurity_split': None, 'min_samples_leaf': 1, 'min_samples_split': 2, 'min_weight_fraction_leaf': 0.0, 'n_estimators': 'warn', 'n_jobs': None, 'oob_score': False, 'random_state': None, 'verbose': 0, 'warm_start': False}\n"
          ],
          "name": "stdout"
        }
      ]
    },
    {
      "metadata": {
        "id": "r_tEzErwAre2",
        "colab_type": "code",
        "outputId": "ae2cfd96-92f2-4839-cf61-91d64bcc9f42",
        "colab": {
          "base_uri": "https://localhost:8080/",
          "height": 55
        }
      },
      "cell_type": "code",
      "source": [
        "from sklearn.model_selection import RandomizedSearchCV\n",
        "# Number of trees in random forest\n",
        "n_estimators = [int(x) for x in np.linspace(start = 50, stop = 1000, num = 10)]\n",
        "# Number of features to consider at every split\n",
        "max_features = ['auto', 'sqrt']\n",
        "# Maximum number of levels in tree\n",
        "max_depth = [int(x) for x in np.linspace(10, 110, num = 11)]\n",
        "max_depth.append(None)\n",
        "# Minimum number of samples required to split a node\n",
        "min_samples_split = [2, 5, 10]\n",
        "# Minimum number of samples required at each leaf node\n",
        "min_samples_leaf = [1, 2, 4]\n",
        "# Method of selecting samples for training each tree\n",
        "bootstrap = [True, False]\n",
        "# Create the random grid\n",
        "random_grid = {'n_estimators': n_estimators,\n",
        "               'max_features': max_features,\n",
        "               'max_depth': max_depth,\n",
        "               'min_samples_split': min_samples_split,\n",
        "               'min_samples_leaf': min_samples_leaf,\n",
        "               'bootstrap': bootstrap}\n",
        "print(random_grid)"
      ],
      "execution_count": 0,
      "outputs": [
        {
          "output_type": "stream",
          "text": [
            "{'n_estimators': [50, 155, 261, 366, 472, 577, 683, 788, 894, 1000], 'max_features': ['auto', 'sqrt'], 'max_depth': [10, 20, 30, 40, 50, 60, 70, 80, 90, 100, 110, None], 'min_samples_split': [2, 5, 10], 'min_samples_leaf': [1, 2, 4], 'bootstrap': [True, False]}\n"
          ],
          "name": "stdout"
        }
      ]
    },
    {
      "metadata": {
        "id": "g2iv92VMA7hw",
        "colab_type": "code",
        "colab": {}
      },
      "cell_type": "code",
      "source": [
        "rf = RandomForestRegressor()\n",
        "# Random search of parameters, using 3 fold cross validation, \n",
        "# search across 100 different combinations, and use all available cores on 21 most important features \n",
        "rf_random = RandomizedSearchCV(estimator = rf, param_distributions = random_grid, n_iter = 100, cv = 3, verbose=2, random_state=42, n_jobs = -1)\n",
        "# Fit the random search model\n",
        "rf_random.fit(train_important, train_labels)\n",
        "#rf_random.fit(train_features, train_labels)\n"
      ],
      "execution_count": 0,
      "outputs": []
    },
    {
      "metadata": {
        "id": "iloas4OlTD1_",
        "colab_type": "code",
        "colab": {}
      },
      "cell_type": "code",
      "source": [
        "rf_random.best_params_\n"
      ],
      "execution_count": 0,
      "outputs": []
    },
    {
      "metadata": {
        "id": "fKend8w2Tixt",
        "colab_type": "code",
        "colab": {}
      },
      "cell_type": "code",
      "source": [
        "def evaluate(model, test_features, test_labels):\n",
        "    predictions = model.predict(test_features)\n",
        "    errors = abs(predictions - test_labels)\n",
        "    mape = 100 * np.mean(errors / test_labels)\n",
        "    accuracy = 100 - mape\n",
        "    print('Model Performance')\n",
        "    print('Average Error: {:0.4f} degrees.'.format(np.mean(errors)))\n",
        "    print('Accuracy = {:0.2f}%.'.format(accuracy))\n",
        "    \n",
        "    return accuracy\n",
        "base_model = RandomForestRegressor(n_estimators = 300, random_state = 42)\n",
        "base_model.fit(train_important, train_labels)\n",
        "base_accuracy = evaluate(base_model, test_important, test_labels)"
      ],
      "execution_count": 0,
      "outputs": []
    },
    {
      "metadata": {
        "id": "dD96igEEUobY",
        "colab_type": "code",
        "colab": {}
      },
      "cell_type": "code",
      "source": [
        "best_random = RandomForestRegressor(n_estimators = 100, random_state = 42, max_depth=20, min_samples_leaf=1,min_samples_split=10)\n",
        "best_random.fit(train_important, train_labels)\n",
        "base_accuracy = evaluate(base_model, test_important, test_labels)\n",
        "random_accuracy = evaluate(best_random, test_important, test_labels)"
      ],
      "execution_count": 0,
      "outputs": []
    },
    {
      "metadata": {
        "id": "4rnnHMmxU1p-",
        "colab_type": "code",
        "colab": {}
      },
      "cell_type": "code",
      "source": [
        "print('Improvement of {:0.2f}%.'.format( 100 * (random_accuracy - base_accuracy) / base_accuracy))"
      ],
      "execution_count": 0,
      "outputs": []
    }
  ]
}